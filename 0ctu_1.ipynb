{
  "nbformat": 4,
  "nbformat_minor": 0,
  "metadata": {
    "colab": {
      "provenance": [],
      "authorship_tag": "ABX9TyOJ58sIUcgTxUmhixh6o+6P",
      "include_colab_link": true
    },
    "kernelspec": {
      "name": "python3",
      "display_name": "Python 3"
    },
    "language_info": {
      "name": "python"
    }
  },
  "cells": [
    {
      "cell_type": "markdown",
      "metadata": {
        "id": "view-in-github",
        "colab_type": "text"
      },
      "source": [
        "<a href=\"https://colab.research.google.com/github/Dakt-98/Octu-1/blob/main/0ctu_1.ipynb\" target=\"_parent\"><img src=\"https://colab.research.google.com/assets/colab-badge.svg\" alt=\"Open In Colab\"/></a>"
      ]
    },
    {
      "cell_type": "code",
      "source": [
        "print(3+7)"
      ],
      "metadata": {
        "colab": {
          "base_uri": "https://localhost:8080/"
        },
        "id": "mqr-yHEl5D45",
        "outputId": "a3854683-a4e6-40eb-bb15-6eefb3c5acf5"
      },
      "execution_count": null,
      "outputs": [
        {
          "output_type": "stream",
          "name": "stdout",
          "text": [
            "10\n"
          ]
        }
      ]
    },
    {
      "cell_type": "code",
      "source": [
        "print('hello')"
      ],
      "metadata": {
        "colab": {
          "base_uri": "https://localhost:8080/"
        },
        "id": "s19HrJz25gEJ",
        "outputId": "d792733d-1ff1-4ef3-ba49-508821d22038"
      },
      "execution_count": null,
      "outputs": [
        {
          "output_type": "stream",
          "name": "stdout",
          "text": [
            "hello\n"
          ]
        }
      ]
    },
    {
      "cell_type": "code",
      "source": [
        "print('I LOVE PYTHON')"
      ],
      "metadata": {
        "colab": {
          "base_uri": "https://localhost:8080/"
        },
        "id": "iHzT_umH_l2A",
        "outputId": "cc5de68c-fec2-4004-f962-69a65dc89269"
      },
      "execution_count": null,
      "outputs": [
        {
          "output_type": "stream",
          "name": "stdout",
          "text": [
            "I LOVE PYTHON\n"
          ]
        }
      ]
    },
    {
      "cell_type": "code",
      "source": [
        "#ركزي علامات تنصيص فرديه اذا داخل النص زوجيه"
      ],
      "metadata": {
        "id": "NXZOjFgEDMMZ"
      },
      "execution_count": null,
      "outputs": []
    },
    {
      "cell_type": "code",
      "source": [
        "print('print(\"I love python\")')"
      ],
      "metadata": {
        "colab": {
          "base_uri": "https://localhost:8080/"
        },
        "id": "gTyYXc86Db1A",
        "outputId": "583016d0-028d-4443-e64f-c6f2684c6e4f"
      },
      "execution_count": null,
      "outputs": [
        {
          "output_type": "stream",
          "name": "stdout",
          "text": [
            "priny(\"I love python\")\n"
          ]
        }
      ]
    },
    {
      "cell_type": "code",
      "source": [
        "#علامات تنصيص زوجيه داخل بايثون اذا داخل النص فردية والعكس صحيح\n"
      ],
      "metadata": {
        "id": "W414AUWWDt_4"
      },
      "execution_count": null,
      "outputs": []
    },
    {
      "cell_type": "code",
      "source": [
        "print(\"print('I love python')\")"
      ],
      "metadata": {
        "colab": {
          "base_uri": "https://localhost:8080/"
        },
        "id": "LuIXfwIfD-7w",
        "outputId": "04f77e16-0dd7-4462-f95f-acfc18764b26"
      },
      "execution_count": null,
      "outputs": [
        {
          "output_type": "stream",
          "name": "stdout",
          "text": [
            "print('I love python')\n"
          ]
        }
      ]
    },
    {
      "cell_type": "code",
      "source": [
        "#اختصار كتابه سطرين في سطر واحد\n",
        "print('I love python.\\nPython is very easy.\\nThis is a new line.')"
      ],
      "metadata": {
        "colab": {
          "base_uri": "https://localhost:8080/"
        },
        "id": "83aK3iCR_B0E",
        "outputId": "b92f563b-2e6e-4317-94a5-ff1759406639"
      },
      "execution_count": null,
      "outputs": [
        {
          "output_type": "stream",
          "name": "stdout",
          "text": [
            "I love python.\n",
            "Python is very easy.\n",
            "This is a new line.\n"
          ]
        }
      ]
    },
    {
      "cell_type": "code",
      "source": [
        "#بدون مسافه اكثر من نص واريد اضافتهن معا\n",
        "print('hello'+'Dalila')\n",
        "print('hello ' +'Dalila')#مسافة بعد hello\n",
        "print('hello'+ ' Dalila') #مسافة قبل Dalila\n",
        "print('hello'+\" \"+ 'Dalila') #علامات تنصيص"
      ],
      "metadata": {
        "colab": {
          "base_uri": "https://localhost:8080/"
        },
        "id": "nl_JoMQBBGBX",
        "outputId": "517d6f8f-2db1-46ec-89b6-f743626ef7de"
      },
      "execution_count": null,
      "outputs": [
        {
          "output_type": "stream",
          "name": "stdout",
          "text": [
            "helloDalila\n",
            "hello Dalila\n",
            "hello Dalila\n",
            "hello Dalila\n"
          ]
        }
      ]
    },
    {
      "cell_type": "code",
      "source": [
        "1#print('Hello'+'' Ibrahim') #\" \" علامة تنصيص زيادة\n",
        "print(\"Hello\"+\" Ibrahim\")\n",
        "2 #print('Hello '+'Ibrahim') #space\n",
        "print(\"Hello \"+\"Hello\")\n",
        "3#print(Hello'+' Ibrahim') #'\n",
        "print(\"Hello\"+\" Ibrahim\")\n",
        "4#print('Hello'+\" \"'Ibrahim'#and + ()\n",
        "print(\"Hello\"+\" \"+\"Ibrahim\")\n",
        "5#prin('Hello'+' ' 'Ibrahim') #print\n",
        "print(\"Hello\"+\" \"\"Ibrahim\")"
      ],
      "metadata": {
        "colab": {
          "base_uri": "https://localhost:8080/"
        },
        "id": "qM7PryWvk-Zw",
        "outputId": "fa0631d6-c906-4775-d15b-3ebfa83e9282"
      },
      "execution_count": null,
      "outputs": [
        {
          "output_type": "stream",
          "name": "stdout",
          "text": [
            "Hello Ibrahim\n",
            "Hello Hello\n",
            "Hello Ibrahim\n",
            "Hello Ibrahim\n",
            "Hello Ibrahim\n"
          ]
        }
      ]
    }
  ]
}