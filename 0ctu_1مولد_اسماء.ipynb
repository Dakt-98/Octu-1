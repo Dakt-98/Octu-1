{
  "nbformat": 4,
  "nbformat_minor": 0,
  "metadata": {
    "colab": {
      "provenance": [],
      "authorship_tag": "ABX9TyNG9SGxFtWCEEq/qpzA4UsS",
      "include_colab_link": true
    },
    "kernelspec": {
      "name": "python3",
      "display_name": "Python 3"
    },
    "language_info": {
      "name": "python"
    }
  },
  "cells": [
    {
      "cell_type": "markdown",
      "metadata": {
        "id": "view-in-github",
        "colab_type": "text"
      },
      "source": [
        "<a href=\"https://colab.research.google.com/github/Dakt-98/Octu_1_Channel-name-generator/blob/main/0ctu_1%D9%85%D9%88%D9%84%D8%AF_%D8%A7%D8%B3%D9%85%D8%A7%D8%A1.ipynb\" target=\"_parent\"><img src=\"https://colab.research.google.com/assets/colab-badge.svg\" alt=\"Open In Colab\"/></a>"
      ]
    },
    {
      "cell_type": "code",
      "source": [
        "print(3+7)# علامات تنصيص مع النصوص فقط"
      ],
      "metadata": {
        "colab": {
          "base_uri": "https://localhost:8080/"
        },
        "id": "mqr-yHEl5D45",
        "outputId": "a3854683-a4e6-40eb-bb15-6eefb3c5acf5"
      },
      "execution_count": null,
      "outputs": [
        {
          "output_type": "stream",
          "name": "stdout",
          "text": [
            "10\n"
          ]
        }
      ]
    },
    {
      "cell_type": "code",
      "source": [
        "print('hello')# \"نص\""
      ],
      "metadata": {
        "colab": {
          "base_uri": "https://localhost:8080/"
        },
        "id": "s19HrJz25gEJ",
        "outputId": "d792733d-1ff1-4ef3-ba49-508821d22038"
      },
      "execution_count": null,
      "outputs": [
        {
          "output_type": "stream",
          "name": "stdout",
          "text": [
            "hello\n"
          ]
        }
      ]
    },
    {
      "cell_type": "code",
      "source": [
        "#ركزي علامات تنصيص فرديه اذا داخل النص زوجيه"
      ],
      "metadata": {
        "id": "NXZOjFgEDMMZ"
      },
      "execution_count": null,
      "outputs": []
    },
    {
      "cell_type": "code",
      "source": [
        "print('(\"I love python\")')"
      ],
      "metadata": {
        "colab": {
          "base_uri": "https://localhost:8080/"
        },
        "id": "gTyYXc86Db1A",
        "outputId": "d82cb84a-71f5-43b0-a41e-187879564079"
      },
      "execution_count": 8,
      "outputs": [
        {
          "output_type": "stream",
          "name": "stdout",
          "text": [
            "(\"I love python\")\n"
          ]
        }
      ]
    },
    {
      "cell_type": "code",
      "source": [
        "#علامات تنصيص زوجيه داخل بايثون اذا داخل النص فردية والعكس صحيح\n"
      ],
      "metadata": {
        "id": "W414AUWWDt_4"
      },
      "execution_count": null,
      "outputs": []
    },
    {
      "cell_type": "code",
      "source": [
        "print(\"('I love python')\")"
      ],
      "metadata": {
        "colab": {
          "base_uri": "https://localhost:8080/"
        },
        "id": "LuIXfwIfD-7w",
        "outputId": "776d3bbc-e93b-49f7-982c-68484399910e"
      },
      "execution_count": 7,
      "outputs": [
        {
          "output_type": "stream",
          "name": "stdout",
          "text": [
            "('I love python')\n"
          ]
        }
      ]
    },
    {
      "cell_type": "code",
      "source": [
        "#اختصار كتابه سطرين في سطر واحد\n",
        "print('I love python.\\nPython is very easy.\\nThis is a new line.')"
      ],
      "metadata": {
        "colab": {
          "base_uri": "https://localhost:8080/"
        },
        "id": "83aK3iCR_B0E",
        "outputId": "b92f563b-2e6e-4317-94a5-ff1759406639"
      },
      "execution_count": null,
      "outputs": [
        {
          "output_type": "stream",
          "name": "stdout",
          "text": [
            "I love python.\n",
            "Python is very easy.\n",
            "This is a new line.\n"
          ]
        }
      ]
    },
    {
      "cell_type": "code",
      "source": [
        "print(\"Faraj.\\nAziz.\\nDalila.\")"
      ],
      "metadata": {
        "colab": {
          "base_uri": "https://localhost:8080/"
        },
        "id": "qO05I47d31de",
        "outputId": "52f4c5d0-83ef-46cc-eba7-ed978ff3c003"
      },
      "execution_count": 10,
      "outputs": [
        {
          "output_type": "stream",
          "name": "stdout",
          "text": [
            "Faraj.\n",
            "Aziz.\n",
            "Dalila.\n"
          ]
        }
      ]
    },
    {
      "cell_type": "code",
      "source": [
        "#بدون مسافه اكثر من نص واريد اضافتهن معا\n",
        "print('hello'+'Dalila') #اكثر من نص\n",
        "print('hello ' +'Dalila')#مسافة بعد hello\n",
        "print('hello'+ ' Dalila') #مسافة قبل Dalila\n",
        "print('hello'+\" \"+ 'Dalila') #علامات تنصيص"
      ],
      "metadata": {
        "colab": {
          "base_uri": "https://localhost:8080/"
        },
        "id": "nl_JoMQBBGBX",
        "outputId": "74908844-5498-42cd-81fb-b8d37f4373ee"
      },
      "execution_count": 22,
      "outputs": [
        {
          "output_type": "stream",
          "name": "stdout",
          "text": [
            "helloDalila\n",
            "hello Dalila\n",
            "hello Dalila\n",
            "hello Dalila\n"
          ]
        }
      ]
    },
    {
      "cell_type": "code",
      "source": [
        "#اخرج الاخطاءالتالية\n",
        "1#print('Hello'+'' Ibrahim') #\" \" علامة تنصيص زيادة\n",
        "print(\"Hello\"+\" Ibrahim\")\n",
        "2 #print('Hello '+'Ibrahim') #space\n",
        "print(\"Hello \"+\"Hello\")\n",
        "3#print(Hello'+' Ibrahim') #'\n",
        "print(\"Hello\"+\" Ibrahim\")\n",
        "4#print('Hello'+\" \"'Ibrahim'#and + ()\n",
        "print(\"Hello\"+\" \"+\"Ibrahim\")\n",
        "5#prin('Hello'+' ' 'Ibrahim') #print\n",
        "print(\"Hello\"+\" \"\"Ibrahim\")"
      ],
      "metadata": {
        "colab": {
          "base_uri": "https://localhost:8080/"
        },
        "id": "qM7PryWvk-Zw",
        "outputId": "fa0631d6-c906-4775-d15b-3ebfa83e9282"
      },
      "execution_count": null,
      "outputs": [
        {
          "output_type": "stream",
          "name": "stdout",
          "text": [
            "Hello Ibrahim\n",
            "Hello Hello\n",
            "Hello Ibrahim\n",
            "Hello Ibrahim\n",
            "Hello Ibrahim\n"
          ]
        }
      ]
    },
    {
      "cell_type": "code",
      "source": [
        "#وظائف ال input\n",
        "#اخراج رساله للمستخدم\n",
        "# يوقف البرنامج حتى يدخل المستخدم البيانات\n",
        "# يحفظها داخل السطر\n",
        "input(\"Hello\\n\")\n",
        "# لاثبات ذلك انر التالي:\n",
        "# كما انه يقدم المدخلات قبل الطباعة\n",
        "print(\"Hello \"+input(\"What is your name?\\n\"))"
      ],
      "metadata": {
        "colab": {
          "base_uri": "https://localhost:8080/"
        },
        "id": "JD_Jd_YS3aMw",
        "outputId": "0f4844d2-749a-4aa7-f7c1-53cad1c4cabb"
      },
      "execution_count": 24,
      "outputs": [
        {
          "output_type": "stream",
          "name": "stdout",
          "text": [
            "Hello\n",
            "Hello\n",
            "What is your name?\n",
            "Dalila\n",
            "Hello Dalila\n"
          ]
        }
      ]
    },
    {
      "cell_type": "code",
      "source": [
        "print(\"It is a beautiful country\"+\" \"+input(\"Where are you from?\\n\"))\n"
      ],
      "metadata": {
        "colab": {
          "base_uri": "https://localhost:8080/"
        },
        "id": "looNYgM1hp8G",
        "outputId": "2fc9a3e6-f001-4241-d312-77c9802de000"
      },
      "execution_count": null,
      "outputs": [
        {
          "output_type": "stream",
          "name": "stdout",
          "text": [
            "Where are you from?\n",
            "Libya\n",
            "It is a beautiful country Libya\n"
          ]
        }
      ]
    },
    {
      "cell_type": "code",
      "source": [
        "# المتغيرات\n",
        "# تبدا بحرف small\n",
        "#paython لا تستخدم مفردات\n",
        "# لا ارقام في البداية\n",
        "# ولا اي هوامش بين الاسماء المركبة فقط (underscore_)\n",
        "# لا تسمي متغيرين بنفس الاسم على مشروعك كل متغير له اسم معين\n",
        "name=input(\"What is your name?\\n\")# هنا نقول له اصنع متغير وسميه nameوضع فيه الاسئلة التي اطرحها\n",
        "print(name) #لاثبات ان المتغير تم حفظ مافيه\n",
        "print(\"Hello\"+\" \"+name) #من دون علامات تنصيص لانها استدعاء للمتغير وليس نص"
      ],
      "metadata": {
        "colab": {
          "base_uri": "https://localhost:8080/"
        },
        "id": "7XOAT8lTwOC0",
        "outputId": "920f130e-b90b-495f-af30-a01c58664f63"
      },
      "execution_count": null,
      "outputs": [
        {
          "output_type": "stream",
          "name": "stdout",
          "text": [
            "What is your name?\n",
            "Dalia\n",
            "Dalia\n",
            "Hello Dalia\n"
          ]
        }
      ]
    },
    {
      "cell_type": "code",
      "source": [
        "#project 1\n",
        "# طرق وضع ماتريد على الكلام السر كله في \" \"+\n",
        "print(\"Welcome to the YouTube channel New Generator:\")\n",
        "name=input(\"What is your nickname?\\n\")\n",
        "channel=input(\"What is your channel about?\\n\")\n",
        "print(\"You could name your channel \" +' \" '+  (channel) + \" with \" +(name)+ ' \" ' )\n",
        "print(\"You could name your channel \" +\" ' \"+  (channel) + \" with \" +(name)+ \" ' \" )\n",
        "print(\"You could name your channel \" +' ( '+  (channel) + \" with \" +(name)+ ' ) ' )"
      ],
      "metadata": {
        "colab": {
          "base_uri": "https://localhost:8080/"
        },
        "id": "vj35MTs8GYBD",
        "outputId": "49533fbc-9bc1-45bb-c2ff-83109edfeea1"
      },
      "execution_count": null,
      "outputs": [
        {
          "output_type": "stream",
          "name": "stdout",
          "text": [
            "Welcome to the YouTube channel New Generator:\n",
            "What is your nickname?\n",
            "Hima\n",
            "What is your channel about?\n",
            "Paython\n",
            "You could name your channel  \" Paython with Hima \" \n",
            "You could name your channel  ' Paython with Hima ' \n",
            "You could name your channel  ( Paython with Hima ) \n"
          ]
        }
      ]
    },
    {
      "cell_type": "code",
      "source": [
        "print(\"Welcome\")\n",
        "user_name=input(\"What is your username?\\n\")\n",
        "print(\"Welcome \"+ \"(\" + user_name + \")\")\n"
      ],
      "metadata": {
        "colab": {
          "base_uri": "https://localhost:8080/"
        },
        "id": "byOJ9OMMVkPQ",
        "outputId": "d72667b1-8a3e-4103-c7bd-baa9fcf09e8c"
      },
      "execution_count": 57,
      "outputs": [
        {
          "output_type": "stream",
          "name": "stdout",
          "text": [
            "Welcome\n",
            "What is your username?\n",
            "Dalila\n",
            "Welcome (Dalila)\n"
          ]
        }
      ]
    },
    {
      "cell_type": "code",
      "source": [
        "# لحساب عدد الحروف\n",
        "# len(    المتغير الذي انشأته)\n",
        "# somename_len=len(viarable) لفظ عدد المتغير\n",
        "# للتأكد ان حساب عدد المتغير تم حفظه\n",
        "# print(   )طبعا لانه متغسر اذا من دون علامات تنصيص\n",
        "print(\"Welcome\")\n",
        "country=input(\"Where are you from?\\n\")\n",
        "print(\"Welcome \"+(country))\n",
        "country_len=len(country)\n",
        "print(  (country_len )   )"
      ],
      "metadata": {
        "colab": {
          "base_uri": "https://localhost:8080/"
        },
        "id": "WGKaidR_wx1O",
        "outputId": "deb62e01-8524-4117-8fc8-2835ec762fa9"
      },
      "execution_count": 29,
      "outputs": [
        {
          "output_type": "stream",
          "name": "stdout",
          "text": [
            "Welcome\n",
            "Where are you from?\n",
            "Libya\n",
            "Welcome Libya\n",
            "5\n"
          ]
        }
      ]
    },
    {
      "cell_type": "code",
      "source": [
        "print(\"Hello\")\n",
        "age=input(\"How old are you?\\n\")\n",
        "len(age)\n",
        "age_len=len(age)\n",
        "print(age_len)"
      ],
      "metadata": {
        "colab": {
          "base_uri": "https://localhost:8080/"
        },
        "id": "uqcEVaZ42bIl",
        "outputId": "dc5f5e26-01f3-4a5d-adcf-9bed3e7aa566"
      },
      "execution_count": 5,
      "outputs": [
        {
          "output_type": "stream",
          "name": "stdout",
          "text": [
            "Hello\n",
            "How old are you?\n",
            "Tweenty\n",
            "7\n"
          ]
        }
      ]
    },
    {
      "cell_type": "code",
      "source": [],
      "metadata": {
        "id": "KaWb5c-O3Jjx"
      },
      "execution_count": null,
      "outputs": []
    }
  ]
}